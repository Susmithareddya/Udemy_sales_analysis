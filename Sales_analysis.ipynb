{
  "cells": [
    {
      "cell_type": "markdown",
      "metadata": {
        "id": "view-in-github",
        "colab_type": "text"
      },
      "source": [
        "<a href=\"https://colab.research.google.com/github/Susmithareddya/Udemy_sales_analysis/blob/main/Sales_analysis.ipynb\" target=\"_parent\"><img src=\"https://colab.research.google.com/assets/colab-badge.svg\" alt=\"Open In Colab\"/></a>"
      ]
    },
    {
      "cell_type": "markdown",
      "id": "b7834bff",
      "metadata": {
        "id": "b7834bff"
      },
      "source": [
        "# Sales Analysis on courses which are available on Udemy's website\n"
      ]
    },
    {
      "cell_type": "code",
      "execution_count": null,
      "id": "8e31e227",
      "metadata": {
        "id": "8e31e227"
      },
      "outputs": [],
      "source": [
        "#importing pandas to load the csv file\n",
        "import pandas as pd\n",
        "df = pd.read_csv(\"S:/Data_science project/udemy/udemy_output_All_Business_p1_p626.csv\")"
      ]
    },
    {
      "cell_type": "code",
      "execution_count": null,
      "id": "c1af7907",
      "metadata": {
        "id": "c1af7907",
        "outputId": "931469cb-1d02-4bf8-833b-79ec2ba6bbbb"
      },
      "outputs": [
        {
          "name": "stdout",
          "output_type": "stream",
          "text": [
            "Index(['id', 'title', 'url', 'is_paid', 'num_subscribers', 'avg_rating',\n",
            "       'avg_rating_recent', 'rating', 'num_reviews', 'is_wishlisted',\n",
            "       'num_published_lectures', 'num_published_practice_tests', 'created',\n",
            "       'published_time', 'discount_price__amount', 'discount_price__currency',\n",
            "       'discount_price__price_string', 'price_detail__amount',\n",
            "       'price_detail__currency', 'price_detail__price_string'],\n",
            "      dtype='object')\n",
            "20\n"
          ]
        }
      ],
      "source": [
        "#Exploring the data\n",
        "labels= df.columns\n",
        "print(labels)\n",
        "print(labels.size)"
      ]
    },
    {
      "cell_type": "markdown",
      "id": "a84eb774",
      "metadata": {
        "id": "a84eb774"
      },
      "source": [
        "id: A unique identifier for each course.\n",
        "\n",
        "title: The title of the course.\n",
        "\n",
        "url: The URL of the course on the Udemy website.\n",
        "\n",
        "is_paid: A Boolean value indicating whether the course is paid or free.\n",
        "\n",
        "num_subscribers: The number of students who have subscribed to the course.\n",
        "\n",
        "avg_rating: The average rating of the course based on student reviews.\n",
        "\n",
        "avg_rating_recent: The average rating of the course based on recent student reviews.\n",
        "\n",
        "rating: The overall rating of the course.\n",
        "\n",
        "num_reviews: The number of student reviews for the course.\n",
        "\n",
        "is_wishlisted: A Boolean value indicating whether the course is wishlisted by any students.\n",
        "\n",
        "num_published_lectures: The number of lectures in the course.\n",
        "\n",
        "num_published_practice_tests: The number of practice tests in the course.\n",
        "\n",
        "created: The date the course was created on the Udemy platform.\n",
        "\n",
        "published_time: The date and time the course was published on the Udemy platform.\n",
        "\n",
        "discount_price__amount: The discounted price of the course in the currency specified in the discount_price__currency column.\n",
        "\n",
        "discount_price__currency: The currency of the discounted price.\n",
        "\n",
        "discount_price__price_string: A formatted string representing the discounted price.\n",
        "\n",
        "price_detail__amount: The regular price of the course in the currency specified in the price_detail__currency column.\n",
        "\n",
        "price_detail__currency: The currency of the regular price.\n",
        "\n",
        "price_detail__price_string: A formatted string representing the regular price"
      ]
    },
    {
      "cell_type": "code",
      "execution_count": null,
      "id": "5d669c46",
      "metadata": {
        "id": "5d669c46",
        "outputId": "ba9830ec-0a5f-4d41-de6c-e201d38e5b8d"
      },
      "outputs": [
        {
          "data": {
            "text/html": [
              "<div>\n",
              "<style scoped>\n",
              "    .dataframe tbody tr th:only-of-type {\n",
              "        vertical-align: middle;\n",
              "    }\n",
              "\n",
              "    .dataframe tbody tr th {\n",
              "        vertical-align: top;\n",
              "    }\n",
              "\n",
              "    .dataframe thead th {\n",
              "        text-align: right;\n",
              "    }\n",
              "</style>\n",
              "<table border=\"1\" class=\"dataframe\">\n",
              "  <thead>\n",
              "    <tr style=\"text-align: right;\">\n",
              "      <th></th>\n",
              "      <th>id</th>\n",
              "      <th>title</th>\n",
              "      <th>url</th>\n",
              "      <th>is_paid</th>\n",
              "      <th>num_subscribers</th>\n",
              "      <th>avg_rating</th>\n",
              "      <th>avg_rating_recent</th>\n",
              "      <th>rating</th>\n",
              "      <th>num_reviews</th>\n",
              "      <th>is_wishlisted</th>\n",
              "      <th>num_published_lectures</th>\n",
              "      <th>num_published_practice_tests</th>\n",
              "      <th>created</th>\n",
              "      <th>published_time</th>\n",
              "      <th>discount_price__amount</th>\n",
              "      <th>discount_price__currency</th>\n",
              "      <th>discount_price__price_string</th>\n",
              "      <th>price_detail__amount</th>\n",
              "      <th>price_detail__currency</th>\n",
              "      <th>price_detail__price_string</th>\n",
              "    </tr>\n",
              "  </thead>\n",
              "  <tbody>\n",
              "    <tr>\n",
              "      <th>0</th>\n",
              "      <td>762616</td>\n",
              "      <td>The Complete SQL Bootcamp 2020: Go from Zero t...</td>\n",
              "      <td>/course/the-complete-sql-bootcamp/</td>\n",
              "      <td>True</td>\n",
              "      <td>295509</td>\n",
              "      <td>4.66019</td>\n",
              "      <td>4.67874</td>\n",
              "      <td>4.67874</td>\n",
              "      <td>78006</td>\n",
              "      <td>False</td>\n",
              "      <td>84</td>\n",
              "      <td>0</td>\n",
              "      <td>2016-02-14T22:57:48Z</td>\n",
              "      <td>2016-04-06T05:16:11Z</td>\n",
              "      <td>455.0</td>\n",
              "      <td>INR</td>\n",
              "      <td>₹455</td>\n",
              "      <td>8640.0</td>\n",
              "      <td>INR</td>\n",
              "      <td>₹8,640</td>\n",
              "    </tr>\n",
              "    <tr>\n",
              "      <th>1</th>\n",
              "      <td>937678</td>\n",
              "      <td>Tableau 2020 A-Z: Hands-On Tableau Training fo...</td>\n",
              "      <td>/course/tableau10/</td>\n",
              "      <td>True</td>\n",
              "      <td>209070</td>\n",
              "      <td>4.58956</td>\n",
              "      <td>4.60015</td>\n",
              "      <td>4.60015</td>\n",
              "      <td>54581</td>\n",
              "      <td>False</td>\n",
              "      <td>78</td>\n",
              "      <td>0</td>\n",
              "      <td>2016-08-22T12:10:18Z</td>\n",
              "      <td>2016-08-23T16:59:49Z</td>\n",
              "      <td>455.0</td>\n",
              "      <td>INR</td>\n",
              "      <td>₹455</td>\n",
              "      <td>8640.0</td>\n",
              "      <td>INR</td>\n",
              "      <td>₹8,640</td>\n",
              "    </tr>\n",
              "    <tr>\n",
              "      <th>2</th>\n",
              "      <td>1361790</td>\n",
              "      <td>PMP Exam Prep Seminar -  PMBOK Guide 6</td>\n",
              "      <td>/course/pmp-pmbok6-35-pdus/</td>\n",
              "      <td>True</td>\n",
              "      <td>155282</td>\n",
              "      <td>4.59491</td>\n",
              "      <td>4.59326</td>\n",
              "      <td>4.59326</td>\n",
              "      <td>52653</td>\n",
              "      <td>False</td>\n",
              "      <td>292</td>\n",
              "      <td>2</td>\n",
              "      <td>2017-09-26T16:32:48Z</td>\n",
              "      <td>2017-11-14T23:58:14Z</td>\n",
              "      <td>455.0</td>\n",
              "      <td>INR</td>\n",
              "      <td>₹455</td>\n",
              "      <td>8640.0</td>\n",
              "      <td>INR</td>\n",
              "      <td>₹8,640</td>\n",
              "    </tr>\n",
              "    <tr>\n",
              "      <th>3</th>\n",
              "      <td>648826</td>\n",
              "      <td>The Complete Financial Analyst Course 2020</td>\n",
              "      <td>/course/the-complete-financial-analyst-course/</td>\n",
              "      <td>True</td>\n",
              "      <td>245860</td>\n",
              "      <td>4.54407</td>\n",
              "      <td>4.53772</td>\n",
              "      <td>4.53772</td>\n",
              "      <td>46447</td>\n",
              "      <td>False</td>\n",
              "      <td>338</td>\n",
              "      <td>0</td>\n",
              "      <td>2015-10-23T13:34:35Z</td>\n",
              "      <td>2016-01-21T01:38:48Z</td>\n",
              "      <td>455.0</td>\n",
              "      <td>INR</td>\n",
              "      <td>₹455</td>\n",
              "      <td>8640.0</td>\n",
              "      <td>INR</td>\n",
              "      <td>₹8,640</td>\n",
              "    </tr>\n",
              "    <tr>\n",
              "      <th>4</th>\n",
              "      <td>637930</td>\n",
              "      <td>An Entire MBA in 1 Course:Award Winning Busine...</td>\n",
              "      <td>/course/an-entire-mba-in-1-courseaward-winning...</td>\n",
              "      <td>True</td>\n",
              "      <td>374836</td>\n",
              "      <td>4.47080</td>\n",
              "      <td>4.47173</td>\n",
              "      <td>4.47173</td>\n",
              "      <td>41630</td>\n",
              "      <td>False</td>\n",
              "      <td>83</td>\n",
              "      <td>0</td>\n",
              "      <td>2015-10-12T06:39:46Z</td>\n",
              "      <td>2016-01-11T21:39:33Z</td>\n",
              "      <td>455.0</td>\n",
              "      <td>INR</td>\n",
              "      <td>₹455</td>\n",
              "      <td>8640.0</td>\n",
              "      <td>INR</td>\n",
              "      <td>₹8,640</td>\n",
              "    </tr>\n",
              "  </tbody>\n",
              "</table>\n",
              "</div>"
            ],
            "text/plain": [
              "        id                                              title  \\\n",
              "0   762616  The Complete SQL Bootcamp 2020: Go from Zero t...   \n",
              "1   937678  Tableau 2020 A-Z: Hands-On Tableau Training fo...   \n",
              "2  1361790             PMP Exam Prep Seminar -  PMBOK Guide 6   \n",
              "3   648826         The Complete Financial Analyst Course 2020   \n",
              "4   637930  An Entire MBA in 1 Course:Award Winning Busine...   \n",
              "\n",
              "                                                 url  is_paid  \\\n",
              "0                 /course/the-complete-sql-bootcamp/     True   \n",
              "1                                 /course/tableau10/     True   \n",
              "2                        /course/pmp-pmbok6-35-pdus/     True   \n",
              "3     /course/the-complete-financial-analyst-course/     True   \n",
              "4  /course/an-entire-mba-in-1-courseaward-winning...     True   \n",
              "\n",
              "   num_subscribers  avg_rating  avg_rating_recent   rating  num_reviews  \\\n",
              "0           295509     4.66019            4.67874  4.67874        78006   \n",
              "1           209070     4.58956            4.60015  4.60015        54581   \n",
              "2           155282     4.59491            4.59326  4.59326        52653   \n",
              "3           245860     4.54407            4.53772  4.53772        46447   \n",
              "4           374836     4.47080            4.47173  4.47173        41630   \n",
              "\n",
              "   is_wishlisted  num_published_lectures  num_published_practice_tests  \\\n",
              "0          False                      84                             0   \n",
              "1          False                      78                             0   \n",
              "2          False                     292                             2   \n",
              "3          False                     338                             0   \n",
              "4          False                      83                             0   \n",
              "\n",
              "                created        published_time  discount_price__amount  \\\n",
              "0  2016-02-14T22:57:48Z  2016-04-06T05:16:11Z                   455.0   \n",
              "1  2016-08-22T12:10:18Z  2016-08-23T16:59:49Z                   455.0   \n",
              "2  2017-09-26T16:32:48Z  2017-11-14T23:58:14Z                   455.0   \n",
              "3  2015-10-23T13:34:35Z  2016-01-21T01:38:48Z                   455.0   \n",
              "4  2015-10-12T06:39:46Z  2016-01-11T21:39:33Z                   455.0   \n",
              "\n",
              "  discount_price__currency discount_price__price_string  price_detail__amount  \\\n",
              "0                      INR                         ₹455                8640.0   \n",
              "1                      INR                         ₹455                8640.0   \n",
              "2                      INR                         ₹455                8640.0   \n",
              "3                      INR                         ₹455                8640.0   \n",
              "4                      INR                         ₹455                8640.0   \n",
              "\n",
              "  price_detail__currency price_detail__price_string  \n",
              "0                    INR                     ₹8,640  \n",
              "1                    INR                     ₹8,640  \n",
              "2                    INR                     ₹8,640  \n",
              "3                    INR                     ₹8,640  \n",
              "4                    INR                     ₹8,640  "
            ]
          },
          "execution_count": 239,
          "metadata": {},
          "output_type": "execute_result"
        }
      ],
      "source": [
        "df.head()"
      ]
    },
    {
      "cell_type": "markdown",
      "id": "d5133ed3",
      "metadata": {
        "id": "d5133ed3"
      },
      "source": [
        "# Preprocessing Data"
      ]
    },
    {
      "cell_type": "code",
      "execution_count": null,
      "id": "976244f8",
      "metadata": {
        "id": "976244f8",
        "outputId": "a6ace116-bdeb-4f2d-b523-158646659c40"
      },
      "outputs": [
        {
          "name": "stdout",
          "output_type": "stream",
          "text": [
            "1.0\n"
          ]
        }
      ],
      "source": [
        "correlation = df['avg_rating_recent'].corr(df['rating'])\n",
        "\n",
        "# Print correlation\n",
        "print(correlation)"
      ]
    },
    {
      "cell_type": "code",
      "execution_count": null,
      "id": "7f91c333",
      "metadata": {
        "id": "7f91c333",
        "outputId": "b998532e-c18b-4c93-b834-0b9d73e37dec"
      },
      "outputs": [
        {
          "data": {
            "image/png": "[encoded data removed]",
            "text/plain": [
              "<Figure size 432x288 with 1 Axes>"
            ]
          },
          "metadata": {
            "needs_background": "light"
          },
          "output_type": "display_data"
        }
      ],
      "source": [
        "import matplotlib.pyplot as plt\n",
        "import seaborn as sns\n",
        "sns.regplot(x='avg_rating_recent', y='rating', data=df)\n",
        "plt.xlabel('Average Recent Rating')\n",
        "plt.ylabel('Overall Rating')\n",
        "plt.title('Correlation between Average Recent Rating and Overall Rating (r = {:.2f})'.format(correlation))\n",
        "plt.show()"
      ]
    },
    {
      "cell_type": "code",
      "execution_count": null,
      "id": "235c911f",
      "metadata": {
        "scrolled": true,
        "id": "235c911f",
        "outputId": "684f0109-e81c-4c52-fe49-428ad2518fa7"
      },
      "outputs": [
        {
          "data": {
            "text/html": [
              "<div>\n",
              "<style scoped>\n",
              "    .dataframe tbody tr th:only-of-type {\n",
              "        vertical-align: middle;\n",
              "    }\n",
              "\n",
              "    .dataframe tbody tr th {\n",
              "        vertical-align: top;\n",
              "    }\n",
              "\n",
              "    .dataframe thead th {\n",
              "        text-align: right;\n",
              "    }\n",
              "</style>\n",
              "<table border=\"1\" class=\"dataframe\">\n",
              "  <thead>\n",
              "    <tr style=\"text-align: right;\">\n",
              "      <th></th>\n",
              "      <th>id</th>\n",
              "      <th>num_subscribers</th>\n",
              "      <th>avg_rating</th>\n",
              "      <th>avg_rating_recent</th>\n",
              "      <th>rating</th>\n",
              "      <th>num_reviews</th>\n",
              "      <th>num_published_lectures</th>\n",
              "      <th>num_published_practice_tests</th>\n",
              "      <th>discount_price__amount</th>\n",
              "      <th>price_detail__amount</th>\n",
              "    </tr>\n",
              "  </thead>\n",
              "  <tbody>\n",
              "    <tr>\n",
              "      <th>count</th>\n",
              "      <td>9.447000e+03</td>\n",
              "      <td>9447.000000</td>\n",
              "      <td>9447.000000</td>\n",
              "      <td>9447.000000</td>\n",
              "      <td>9447.000000</td>\n",
              "      <td>9447.000000</td>\n",
              "      <td>9447.000000</td>\n",
              "      <td>9447.000000</td>\n",
              "      <td>8937.000000</td>\n",
              "      <td>9447.000000</td>\n",
              "    </tr>\n",
              "    <tr>\n",
              "      <th>mean</th>\n",
              "      <td>1.456603e+06</td>\n",
              "      <td>3399.298190</td>\n",
              "      <td>4.138522</td>\n",
              "      <td>4.124756</td>\n",
              "      <td>4.124756</td>\n",
              "      <td>299.054515</td>\n",
              "      <td>34.400868</td>\n",
              "      <td>0.101831</td>\n",
              "      <td>488.984111</td>\n",
              "      <td>4828.758336</td>\n",
              "    </tr>\n",
              "    <tr>\n",
              "      <th>std</th>\n",
              "      <td>8.956601e+05</td>\n",
              "      <td>10451.534122</td>\n",
              "      <td>0.453581</td>\n",
              "      <td>0.478410</td>\n",
              "      <td>0.478410</td>\n",
              "      <td>1826.867472</td>\n",
              "      <td>46.061088</td>\n",
              "      <td>0.580037</td>\n",
              "      <td>247.833161</td>\n",
              "      <td>3108.307674</td>\n",
              "    </tr>\n",
              "    <tr>\n",
              "      <th>min</th>\n",
              "      <td>2.762000e+03</td>\n",
              "      <td>3.000000</td>\n",
              "      <td>1.000000</td>\n",
              "      <td>1.000000</td>\n",
              "      <td>1.000000</td>\n",
              "      <td>3.000000</td>\n",
              "      <td>0.000000</td>\n",
              "      <td>0.000000</td>\n",
              "      <td>455.000000</td>\n",
              "      <td>1280.000000</td>\n",
              "    </tr>\n",
              "    <tr>\n",
              "      <th>25%</th>\n",
              "      <td>6.730310e+05</td>\n",
              "      <td>141.000000</td>\n",
              "      <td>3.900000</td>\n",
              "      <td>3.879410</td>\n",
              "      <td>3.879410</td>\n",
              "      <td>12.000000</td>\n",
              "      <td>13.000000</td>\n",
              "      <td>0.000000</td>\n",
              "      <td>455.000000</td>\n",
              "      <td>1600.000000</td>\n",
              "    </tr>\n",
              "    <tr>\n",
              "      <th>50%</th>\n",
              "      <td>1.381806e+06</td>\n",
              "      <td>916.000000</td>\n",
              "      <td>4.200000</td>\n",
              "      <td>4.206080</td>\n",
              "      <td>4.206080</td>\n",
              "      <td>33.000000</td>\n",
              "      <td>23.000000</td>\n",
              "      <td>0.000000</td>\n",
              "      <td>455.000000</td>\n",
              "      <td>3840.000000</td>\n",
              "    </tr>\n",
              "    <tr>\n",
              "      <th>75%</th>\n",
              "      <td>2.154793e+06</td>\n",
              "      <td>2889.500000</td>\n",
              "      <td>4.450000</td>\n",
              "      <td>4.447495</td>\n",
              "      <td>4.447495</td>\n",
              "      <td>110.000000</td>\n",
              "      <td>39.000000</td>\n",
              "      <td>0.000000</td>\n",
              "      <td>455.000000</td>\n",
              "      <td>8640.000000</td>\n",
              "    </tr>\n",
              "    <tr>\n",
              "      <th>max</th>\n",
              "      <td>3.469452e+06</td>\n",
              "      <td>374836.000000</td>\n",
              "      <td>5.000000</td>\n",
              "      <td>5.000000</td>\n",
              "      <td>5.000000</td>\n",
              "      <td>78006.000000</td>\n",
              "      <td>699.000000</td>\n",
              "      <td>6.000000</td>\n",
              "      <td>3200.000000</td>\n",
              "      <td>12800.000000</td>\n",
              "    </tr>\n",
              "  </tbody>\n",
              "</table>\n",
              "</div>"
            ],
            "text/plain": [
              "                 id  num_subscribers   avg_rating  avg_rating_recent  \\\n",
              "count  9.447000e+03      9447.000000  9447.000000        9447.000000   \n",
              "mean   1.456603e+06      3399.298190     4.138522           4.124756   \n",
              "std    8.956601e+05     10451.534122     0.453581           0.478410   \n",
              "min    2.762000e+03         3.000000     1.000000           1.000000   \n",
              "25%    6.730310e+05       141.000000     3.900000           3.879410   \n",
              "50%    1.381806e+06       916.000000     4.200000           4.206080   \n",
              "75%    2.154793e+06      2889.500000     4.450000           4.447495   \n",
              "max    3.469452e+06    374836.000000     5.000000           5.000000   \n",
              "\n",
              "            rating   num_reviews  num_published_lectures  \\\n",
              "count  9447.000000   9447.000000             9447.000000   \n",
              "mean      4.124756    299.054515               34.400868   \n",
              "std       0.478410   1826.867472               46.061088   \n",
              "min       1.000000      3.000000                0.000000   \n",
              "25%       3.879410     12.000000               13.000000   \n",
              "50%       4.206080     33.000000               23.000000   \n",
              "75%       4.447495    110.000000               39.000000   \n",
              "max       5.000000  78006.000000              699.000000   \n",
              "\n",
              "       num_published_practice_tests  discount_price__amount  \\\n",
              "count                   9447.000000             8937.000000   \n",
              "mean                       0.101831              488.984111   \n",
              "std                        0.580037              247.833161   \n",
              "min                        0.000000              455.000000   \n",
              "25%                        0.000000              455.000000   \n",
              "50%                        0.000000              455.000000   \n",
              "75%                        0.000000              455.000000   \n",
              "max                        6.000000             3200.000000   \n",
              "\n",
              "       price_detail__amount  \n",
              "count           9447.000000  \n",
              "mean            4828.758336  \n",
              "std             3108.307674  \n",
              "min             1280.000000  \n",
              "25%             1600.000000  \n",
              "50%             3840.000000  \n",
              "75%             8640.000000  \n",
              "max            12800.000000  "
            ]
          },
          "execution_count": 242,
          "metadata": {},
          "output_type": "execute_result"
        }
      ],
      "source": [
        "df.describe()"
      ]
    },
    {
      "cell_type": "markdown",
      "id": "a2f1f6c2",
      "metadata": {
        "id": "a2f1f6c2"
      },
      "source": [
        "From the correlation and summary of statistics , we can say that Correlation between Average Recent Rating and Rating is 1 which means both columns have the same data."
      ]
    },
    {
      "cell_type": "code",
      "execution_count": null,
      "id": "05c8f7bc",
      "metadata": {
        "id": "05c8f7bc",
        "outputId": "ef0d6b2c-d24c-4156-e77b-eb803d010e53"
      },
      "outputs": [
        {
          "name": "stderr",
          "output_type": "stream",
          "text": [
            "<__array_function__ internals>:5: RuntimeWarning: Converting input from bool to <class 'numpy.uint8'> for compatibility.\n",
            "<__array_function__ internals>:5: RuntimeWarning: Converting input from bool to <class 'numpy.uint8'> for compatibility.\n"
          ]
        },
        {
          "data": {
            "image/png": "[encoded data removed]",
            "text/plain": [
              "<Figure size 432x288 with 1 Axes>"
            ]
          },
          "metadata": {
            "needs_background": "light"
          },
          "output_type": "display_data"
        }
      ],
      "source": [
        "sns.histplot(df['is_paid'], bins=20)\n",
        "plt.show()"
      ]
    },
    {
      "cell_type": "code",
      "execution_count": null,
      "id": "eceb73d8",
      "metadata": {
        "id": "eceb73d8",
        "outputId": "9c59af29-20ae-475a-8fca-aad4b70dfc5e"
      },
      "outputs": [
        {
          "name": "stderr",
          "output_type": "stream",
          "text": [
            "<__array_function__ internals>:5: RuntimeWarning: Converting input from bool to <class 'numpy.uint8'> for compatibility.\n",
            "<__array_function__ internals>:5: RuntimeWarning: Converting input from bool to <class 'numpy.uint8'> for compatibility.\n"
          ]
        },
        {
          "data": {
            "image/png": "[encoded data removed]",
            "text/plain": [
              "<Figure size 432x288 with 1 Axes>"
            ]
          },
          "metadata": {
            "needs_background": "light"
          },
          "output_type": "display_data"
        }
      ],
      "source": [
        "sns.histplot(df['is_wishlisted'], bins=20)\n",
        "plt.show()"
      ]
    },
    {
      "cell_type": "markdown",
      "id": "7e051f84",
      "metadata": {
        "id": "7e051f84"
      },
      "source": [
        "Based on the univariate analysis, it appears that all courses in the dataset are paid courses, as the 'is_paid' attribute has only one value i.e TRUE. Additionally, there are no wishlisted courses, as the 'is_wishlisted' attribute also has only one value that is FALSE."
      ]
    },
    {
      "cell_type": "code",
      "execution_count": null,
      "id": "9a802e42",
      "metadata": {
        "id": "9a802e42"
      },
      "outputs": [],
      "source": [
        "df.drop(['url', 'is_paid', 'rating', 'is_wishlisted', 'discount_price__currency',\n",
        "      'discount_price__price_string',\n",
        "       'price_detail__currency', 'price_detail__price_string', 'created'], axis=1,inplace=True)"
      ]
    },
    {
      "cell_type": "code",
      "execution_count": null,
      "id": "f374a46b",
      "metadata": {
        "id": "f374a46b",
        "outputId": "162626d3-c21f-47f2-d4ca-f3c18a6f8d46"
      },
      "outputs": [
        {
          "name": "stdout",
          "output_type": "stream",
          "text": [
            "0       455.0\n",
            "1       455.0\n",
            "2       455.0\n",
            "3       455.0\n",
            "4       455.0\n",
            "        ...  \n",
            "9442    455.0\n",
            "9443    455.0\n",
            "9444    455.0\n",
            "9445    455.0\n",
            "9446    455.0\n",
            "Name: discount_price__amount, Length: 9447, dtype: float64\n"
          ]
        }
      ],
      "source": [
        "print(df.discount_price__amount)"
      ]
    },
    {
      "cell_type": "code",
      "execution_count": null,
      "id": "2fbfbdd1",
      "metadata": {
        "id": "2fbfbdd1",
        "outputId": "99bdfb56-5fe5-48f4-f6bb-6de483fd2a3c"
      },
      "outputs": [
        {
          "name": "stdout",
          "output_type": "stream",
          "text": [
            "ModeResult(mode=array([455.]), count=array([8350]))\n"
          ]
        }
      ],
      "source": [
        "from scipy import stats\n",
        "\n",
        "# Get the mode(s) of the column\n",
        "discount_price_modes = stats.mode(df['discount_price__amount'])\n",
        "\n",
        "# Print the mode(s)\n",
        "print(discount_price_modes)\n"
      ]
    },
    {
      "cell_type": "code",
      "execution_count": null,
      "id": "48128add",
      "metadata": {
        "id": "48128add",
        "outputId": "94e0a493-2809-4aaf-c5a1-7eaf3bb0ebb4"
      },
      "outputs": [
        {
          "data": {
            "text/plain": [
              "510"
            ]
          },
          "execution_count": 248,
          "metadata": {},
          "output_type": "execute_result"
        }
      ],
      "source": [
        "df['discount_price__amount'].isnull().sum()"
      ]
    },
    {
      "cell_type": "code",
      "execution_count": null,
      "id": "7e4910d9",
      "metadata": {
        "id": "7e4910d9",
        "outputId": "d725fd19-da80-4a21-f0cd-5855f1dc6033"
      },
      "outputs": [
        {
          "name": "stdout",
          "output_type": "stream",
          "text": [
            "[455. 455. 455. ... 455. 455. 455.]\n"
          ]
        }
      ],
      "source": [
        "discount_price_values = df['discount_price__amount'].values\n",
        "print(discount_price_values)"
      ]
    },
    {
      "cell_type": "code",
      "execution_count": null,
      "id": "edc4d1fd",
      "metadata": {
        "id": "edc4d1fd",
        "outputId": "f839a707-afad-4110-e4e0-cc56f5ed647b"
      },
      "outputs": [
        {
          "data": {
            "text/html": [
              "<div>\n",
              "<style scoped>\n",
              "    .dataframe tbody tr th:only-of-type {\n",
              "        vertical-align: middle;\n",
              "    }\n",
              "\n",
              "    .dataframe tbody tr th {\n",
              "        vertical-align: top;\n",
              "    }\n",
              "\n",
              "    .dataframe thead th {\n",
              "        text-align: right;\n",
              "    }\n",
              "</style>\n",
              "<table border=\"1\" class=\"dataframe\">\n",
              "  <thead>\n",
              "    <tr style=\"text-align: right;\">\n",
              "      <th></th>\n",
              "      <th>id</th>\n",
              "      <th>title</th>\n",
              "      <th>num_subscribers</th>\n",
              "      <th>avg_rating</th>\n",
              "      <th>avg_rating_recent</th>\n",
              "      <th>num_reviews</th>\n",
              "      <th>num_published_lectures</th>\n",
              "      <th>num_published_practice_tests</th>\n",
              "      <th>published_time</th>\n",
              "      <th>discount_price__amount</th>\n",
              "      <th>price_detail__amount</th>\n",
              "    </tr>\n",
              "  </thead>\n",
              "  <tbody>\n",
              "    <tr>\n",
              "      <th>0</th>\n",
              "      <td>762616</td>\n",
              "      <td>The Complete SQL Bootcamp 2020: Go from Zero t...</td>\n",
              "      <td>295509</td>\n",
              "      <td>4.66019</td>\n",
              "      <td>4.67874</td>\n",
              "      <td>78006</td>\n",
              "      <td>84</td>\n",
              "      <td>0</td>\n",
              "      <td>2016-04-06T05:16:11Z</td>\n",
              "      <td>455.0</td>\n",
              "      <td>8640.0</td>\n",
              "    </tr>\n",
              "    <tr>\n",
              "      <th>1</th>\n",
              "      <td>937678</td>\n",
              "      <td>Tableau 2020 A-Z: Hands-On Tableau Training fo...</td>\n",
              "      <td>209070</td>\n",
              "      <td>4.58956</td>\n",
              "      <td>4.60015</td>\n",
              "      <td>54581</td>\n",
              "      <td>78</td>\n",
              "      <td>0</td>\n",
              "      <td>2016-08-23T16:59:49Z</td>\n",
              "      <td>455.0</td>\n",
              "      <td>8640.0</td>\n",
              "    </tr>\n",
              "    <tr>\n",
              "      <th>2</th>\n",
              "      <td>1361790</td>\n",
              "      <td>PMP Exam Prep Seminar -  PMBOK Guide 6</td>\n",
              "      <td>155282</td>\n",
              "      <td>4.59491</td>\n",
              "      <td>4.59326</td>\n",
              "      <td>52653</td>\n",
              "      <td>292</td>\n",
              "      <td>2</td>\n",
              "      <td>2017-11-14T23:58:14Z</td>\n",
              "      <td>455.0</td>\n",
              "      <td>8640.0</td>\n",
              "    </tr>\n",
              "    <tr>\n",
              "      <th>3</th>\n",
              "      <td>648826</td>\n",
              "      <td>The Complete Financial Analyst Course 2020</td>\n",
              "      <td>245860</td>\n",
              "      <td>4.54407</td>\n",
              "      <td>4.53772</td>\n",
              "      <td>46447</td>\n",
              "      <td>338</td>\n",
              "      <td>0</td>\n",
              "      <td>2016-01-21T01:38:48Z</td>\n",
              "      <td>455.0</td>\n",
              "      <td>8640.0</td>\n",
              "    </tr>\n",
              "    <tr>\n",
              "      <th>4</th>\n",
              "      <td>637930</td>\n",
              "      <td>An Entire MBA in 1 Course:Award Winning Busine...</td>\n",
              "      <td>374836</td>\n",
              "      <td>4.47080</td>\n",
              "      <td>4.47173</td>\n",
              "      <td>41630</td>\n",
              "      <td>83</td>\n",
              "      <td>0</td>\n",
              "      <td>2016-01-11T21:39:33Z</td>\n",
              "      <td>455.0</td>\n",
              "      <td>8640.0</td>\n",
              "    </tr>\n",
              "    <tr>\n",
              "      <th>...</th>\n",
              "      <td>...</td>\n",
              "      <td>...</td>\n",
              "      <td>...</td>\n",
              "      <td>...</td>\n",
              "      <td>...</td>\n",
              "      <td>...</td>\n",
              "      <td>...</td>\n",
              "      <td>...</td>\n",
              "      <td>...</td>\n",
              "      <td>...</td>\n",
              "      <td>...</td>\n",
              "    </tr>\n",
              "    <tr>\n",
              "      <th>8995</th>\n",
              "      <td>1133734</td>\n",
              "      <td>Youtube Means Business - Promote Affiliate Off...</td>\n",
              "      <td>66</td>\n",
              "      <td>4.12500</td>\n",
              "      <td>3.90196</td>\n",
              "      <td>4</td>\n",
              "      <td>14</td>\n",
              "      <td>0</td>\n",
              "      <td>2017-03-08T22:33:57Z</td>\n",
              "      <td>455.0</td>\n",
              "      <td>1280.0</td>\n",
              "    </tr>\n",
              "    <tr>\n",
              "      <th>8996</th>\n",
              "      <td>2346010</td>\n",
              "      <td>Live trading 0.1btc into 1btc in 12 days</td>\n",
              "      <td>27</td>\n",
              "      <td>3.75000</td>\n",
              "      <td>3.64513</td>\n",
              "      <td>4</td>\n",
              "      <td>13</td>\n",
              "      <td>0</td>\n",
              "      <td>2019-05-23T00:47:19Z</td>\n",
              "      <td>NaN</td>\n",
              "      <td>2880.0</td>\n",
              "    </tr>\n",
              "    <tr>\n",
              "      <th>8997</th>\n",
              "      <td>2451840</td>\n",
              "      <td>Taxes for Self-Employed</td>\n",
              "      <td>26</td>\n",
              "      <td>3.87500</td>\n",
              "      <td>3.96569</td>\n",
              "      <td>4</td>\n",
              "      <td>17</td>\n",
              "      <td>0</td>\n",
              "      <td>2019-08-22T18:15:29Z</td>\n",
              "      <td>455.0</td>\n",
              "      <td>1920.0</td>\n",
              "    </tr>\n",
              "    <tr>\n",
              "      <th>8998</th>\n",
              "      <td>1544706</td>\n",
              "      <td>Secret To Spy To Find Winning Shopify Dropship...</td>\n",
              "      <td>12</td>\n",
              "      <td>3.12500</td>\n",
              "      <td>3.40701</td>\n",
              "      <td>4</td>\n",
              "      <td>8</td>\n",
              "      <td>0</td>\n",
              "      <td>2018-02-19T22:24:29Z</td>\n",
              "      <td>455.0</td>\n",
              "      <td>2880.0</td>\n",
              "    </tr>\n",
              "    <tr>\n",
              "      <th>8999</th>\n",
              "      <td>1266298</td>\n",
              "      <td>How to Sell More with Better Rapport</td>\n",
              "      <td>23</td>\n",
              "      <td>4.75000</td>\n",
              "      <td>4.81686</td>\n",
              "      <td>4</td>\n",
              "      <td>10</td>\n",
              "      <td>0</td>\n",
              "      <td>2017-07-17T22:21:55Z</td>\n",
              "      <td>455.0</td>\n",
              "      <td>4800.0</td>\n",
              "    </tr>\n",
              "  </tbody>\n",
              "</table>\n",
              "<p>9000 rows × 11 columns</p>\n",
              "</div>"
            ],
            "text/plain": [
              "           id                                              title  \\\n",
              "0      762616  The Complete SQL Bootcamp 2020: Go from Zero t...   \n",
              "1      937678  Tableau 2020 A-Z: Hands-On Tableau Training fo...   \n",
              "2     1361790             PMP Exam Prep Seminar -  PMBOK Guide 6   \n",
              "3      648826         The Complete Financial Analyst Course 2020   \n",
              "4      637930  An Entire MBA in 1 Course:Award Winning Busine...   \n",
              "...       ...                                                ...   \n",
              "8995  1133734  Youtube Means Business - Promote Affiliate Off...   \n",
              "8996  2346010           Live trading 0.1btc into 1btc in 12 days   \n",
              "8997  2451840                            Taxes for Self-Employed   \n",
              "8998  1544706  Secret To Spy To Find Winning Shopify Dropship...   \n",
              "8999  1266298               How to Sell More with Better Rapport   \n",
              "\n",
              "      num_subscribers  avg_rating  avg_rating_recent  num_reviews  \\\n",
              "0              295509     4.66019            4.67874        78006   \n",
              "1              209070     4.58956            4.60015        54581   \n",
              "2              155282     4.59491            4.59326        52653   \n",
              "3              245860     4.54407            4.53772        46447   \n",
              "4              374836     4.47080            4.47173        41630   \n",
              "...               ...         ...                ...          ...   \n",
              "8995               66     4.12500            3.90196            4   \n",
              "8996               27     3.75000            3.64513            4   \n",
              "8997               26     3.87500            3.96569            4   \n",
              "8998               12     3.12500            3.40701            4   \n",
              "8999               23     4.75000            4.81686            4   \n",
              "\n",
              "      num_published_lectures  num_published_practice_tests  \\\n",
              "0                         84                             0   \n",
              "1                         78                             0   \n",
              "2                        292                             2   \n",
              "3                        338                             0   \n",
              "4                         83                             0   \n",
              "...                      ...                           ...   \n",
              "8995                      14                             0   \n",
              "8996                      13                             0   \n",
              "8997                      17                             0   \n",
              "8998                       8                             0   \n",
              "8999                      10                             0   \n",
              "\n",
              "            published_time  discount_price__amount  price_detail__amount  \n",
              "0     2016-04-06T05:16:11Z                   455.0                8640.0  \n",
              "1     2016-08-23T16:59:49Z                   455.0                8640.0  \n",
              "2     2017-11-14T23:58:14Z                   455.0                8640.0  \n",
              "3     2016-01-21T01:38:48Z                   455.0                8640.0  \n",
              "4     2016-01-11T21:39:33Z                   455.0                8640.0  \n",
              "...                    ...                     ...                   ...  \n",
              "8995  2017-03-08T22:33:57Z                   455.0                1280.0  \n",
              "8996  2019-05-23T00:47:19Z                     NaN                2880.0  \n",
              "8997  2019-08-22T18:15:29Z                   455.0                1920.0  \n",
              "8998  2018-02-19T22:24:29Z                   455.0                2880.0  \n",
              "8999  2017-07-17T22:21:55Z                   455.0                4800.0  \n",
              "\n",
              "[9000 rows x 11 columns]"
            ]
          },
          "execution_count": 250,
          "metadata": {},
          "output_type": "execute_result"
        }
      ],
      "source": [
        "df.head(9000)"
      ]
    },
    {
      "cell_type": "code",
      "execution_count": null,
      "id": "3997d408",
      "metadata": {
        "id": "3997d408"
      },
      "outputs": [],
      "source": [
        "df['discount_price__amount'] = df['discount_price__amount'].fillna(0)"
      ]
    },
    {
      "cell_type": "code",
      "execution_count": null,
      "id": "ee116e58",
      "metadata": {
        "id": "ee116e58",
        "outputId": "0ca4caaa-3828-445a-c24c-3ceb17442b20"
      },
      "outputs": [
        {
          "data": {
            "text/html": [
              "<div>\n",
              "<style scoped>\n",
              "    .dataframe tbody tr th:only-of-type {\n",
              "        vertical-align: middle;\n",
              "    }\n",
              "\n",
              "    .dataframe tbody tr th {\n",
              "        vertical-align: top;\n",
              "    }\n",
              "\n",
              "    .dataframe thead th {\n",
              "        text-align: right;\n",
              "    }\n",
              "</style>\n",
              "<table border=\"1\" class=\"dataframe\">\n",
              "  <thead>\n",
              "    <tr style=\"text-align: right;\">\n",
              "      <th></th>\n",
              "      <th>id</th>\n",
              "      <th>title</th>\n",
              "      <th>num_subscribers</th>\n",
              "      <th>avg_rating</th>\n",
              "      <th>avg_rating_recent</th>\n",
              "      <th>num_reviews</th>\n",
              "      <th>num_published_lectures</th>\n",
              "      <th>num_published_practice_tests</th>\n",
              "      <th>published_time</th>\n",
              "      <th>discount_price__amount</th>\n",
              "      <th>price_detail__amount</th>\n",
              "    </tr>\n",
              "  </thead>\n",
              "  <tbody>\n",
              "    <tr>\n",
              "      <th>33</th>\n",
              "      <td>139166</td>\n",
              "      <td>Conscious Listening</td>\n",
              "      <td>27681</td>\n",
              "      <td>4.47545</td>\n",
              "      <td>4.48064</td>\n",
              "      <td>10671</td>\n",
              "      <td>14</td>\n",
              "      <td>0</td>\n",
              "      <td>2013-12-31T16:51:18Z</td>\n",
              "      <td>0.0</td>\n",
              "      <td>2240.0</td>\n",
              "    </tr>\n",
              "    <tr>\n",
              "      <th>39</th>\n",
              "      <td>2246852</td>\n",
              "      <td>Emotional Intelligence at Work: Learn from You...</td>\n",
              "      <td>20978</td>\n",
              "      <td>4.45476</td>\n",
              "      <td>4.45477</td>\n",
              "      <td>9594</td>\n",
              "      <td>21</td>\n",
              "      <td>1</td>\n",
              "      <td>2019-03-18T14:09:54Z</td>\n",
              "      <td>0.0</td>\n",
              "      <td>3200.0</td>\n",
              "    </tr>\n",
              "    <tr>\n",
              "      <th>40</th>\n",
              "      <td>139200</td>\n",
              "      <td>Powerful speaking</td>\n",
              "      <td>34296</td>\n",
              "      <td>4.43750</td>\n",
              "      <td>4.45212</td>\n",
              "      <td>9520</td>\n",
              "      <td>19</td>\n",
              "      <td>0</td>\n",
              "      <td>2013-12-31T16:52:41Z</td>\n",
              "      <td>0.0</td>\n",
              "      <td>2240.0</td>\n",
              "    </tr>\n",
              "    <tr>\n",
              "      <th>80</th>\n",
              "      <td>43319</td>\n",
              "      <td>Options Trading Basics (3-Course Bundle)</td>\n",
              "      <td>28932</td>\n",
              "      <td>4.42527</td>\n",
              "      <td>4.41998</td>\n",
              "      <td>4881</td>\n",
              "      <td>47</td>\n",
              "      <td>0</td>\n",
              "      <td>2013-02-25T11:36:06Z</td>\n",
              "      <td>0.0</td>\n",
              "      <td>9600.0</td>\n",
              "    </tr>\n",
              "    <tr>\n",
              "      <th>90</th>\n",
              "      <td>328266</td>\n",
              "      <td>Project Management Professional (PMP)® - 35 Co...</td>\n",
              "      <td>27653</td>\n",
              "      <td>4.40769</td>\n",
              "      <td>4.41472</td>\n",
              "      <td>4579</td>\n",
              "      <td>345</td>\n",
              "      <td>0</td>\n",
              "      <td>2014-11-05T21:07:38Z</td>\n",
              "      <td>0.0</td>\n",
              "      <td>12800.0</td>\n",
              "    </tr>\n",
              "  </tbody>\n",
              "</table>\n",
              "</div>"
            ],
            "text/plain": [
              "         id                                              title  \\\n",
              "33   139166                                Conscious Listening   \n",
              "39  2246852  Emotional Intelligence at Work: Learn from You...   \n",
              "40   139200                                  Powerful speaking   \n",
              "80    43319           Options Trading Basics (3-Course Bundle)   \n",
              "90   328266  Project Management Professional (PMP)® - 35 Co...   \n",
              "\n",
              "    num_subscribers  avg_rating  avg_rating_recent  num_reviews  \\\n",
              "33            27681     4.47545            4.48064        10671   \n",
              "39            20978     4.45476            4.45477         9594   \n",
              "40            34296     4.43750            4.45212         9520   \n",
              "80            28932     4.42527            4.41998         4881   \n",
              "90            27653     4.40769            4.41472         4579   \n",
              "\n",
              "    num_published_lectures  num_published_practice_tests  \\\n",
              "33                      14                             0   \n",
              "39                      21                             1   \n",
              "40                      19                             0   \n",
              "80                      47                             0   \n",
              "90                     345                             0   \n",
              "\n",
              "          published_time  discount_price__amount  price_detail__amount  \n",
              "33  2013-12-31T16:51:18Z                     0.0                2240.0  \n",
              "39  2019-03-18T14:09:54Z                     0.0                3200.0  \n",
              "40  2013-12-31T16:52:41Z                     0.0                2240.0  \n",
              "80  2013-02-25T11:36:06Z                     0.0                9600.0  \n",
              "90  2014-11-05T21:07:38Z                     0.0               12800.0  "
            ]
          },
          "execution_count": 252,
          "metadata": {},
          "output_type": "execute_result"
        }
      ],
      "source": [
        "df[df['discount_price__amount'] == 0].head()"
      ]
    },
    {
      "cell_type": "markdown",
      "id": "341dca8e",
      "metadata": {
        "id": "341dca8e"
      },
      "source": [
        "# Analysing and Visualization"
      ]
    },
    {
      "cell_type": "code",
      "execution_count": null,
      "id": "13161f6b",
      "metadata": {
        "id": "13161f6b",
        "outputId": "419b7f91-dd33-46f2-c1d0-048d35c2d632"
      },
      "outputs": [
        {
          "data": {
            "image/png": "[encoded data removed]",
            "text/plain": [
              "<Figure size 576x432 with 1 Axes>"
            ]
          },
          "metadata": {
            "needs_background": "light"
          },
          "output_type": "display_data"
        }
      ],
      "source": [
        "# Create a new column 'has_discount' that indicates whether a course has a discount or not\n",
        "df['has_discount'] = df['discount_price__amount'].apply(lambda x: 'Yes' if x != 0 else 'No')\n",
        "\n",
        "# Group the data by 'has_discount' and calculate the average number of subscribers for each group\n",
        "avg_subs_by_discount = df.groupby('has_discount')['num_subscribers'].mean()\n",
        "\n",
        "# Create a bar plot\n",
        "plt.figure(figsize=(8,6))\n",
        "sns.barplot(x=avg_subs_by_discount.index, y=avg_subs_by_discount.values, palette='Blues_d')\n",
        "plt.xlabel('Has Discount')\n",
        "plt.ylabel('Average Number of Subscribers')\n",
        "plt.title('Average Number of Subscribers for Courses with and without Discount')\n",
        "plt.show()"
      ]
    },
    {
      "cell_type": "markdown",
      "id": "d64b1e23",
      "metadata": {
        "id": "d64b1e23"
      },
      "source": [
        "Courses with discounts tend to attract more subscribers. This implies that offering discounts could be a useful strategy for the company to attract more users to its platform and improve its performance."
      ]
    },
    {
      "cell_type": "code",
      "execution_count": null,
      "id": "c3b75af7",
      "metadata": {
        "id": "c3b75af7",
        "outputId": "730dd978-821e-48e3-9375-ef752f335b8c"
      },
      "outputs": [
        {
          "data": {
            "text/plain": [
              "<AxesSubplot:xlabel='num_subscribers', ylabel='title'>"
            ]
          },
          "execution_count": 258,
          "metadata": {},
          "output_type": "execute_result"
        },
        {
          "data": {
            "image/png": "[encoded data removed]",
            "text/plain": [
              "<Figure size 432x288 with 1 Axes>"
            ]
          },
          "metadata": {
            "needs_background": "light"
          },
          "output_type": "display_data"
        }
      ],
      "source": [
        "top_10_subscribers = df.sort_values(by='num_subscribers', ascending=False).head(10)\n",
        "sns.barplot(x='num_subscribers', y='title', data=top_10_subscribers[:10])"
      ]
    },
    {
      "cell_type": "code",
      "execution_count": null,
      "id": "ffdd06af",
      "metadata": {
        "id": "ffdd06af",
        "outputId": "3d526c66-60e3-4ba9-af5f-26f0827236f6"
      },
      "outputs": [
        {
          "name": "stdout",
          "output_type": "stream",
          "text": [
            "                 num_reviews  num_subscribers\n",
            "num_reviews         1.000000         0.790876\n",
            "num_subscribers     0.790876         1.000000\n"
          ]
        }
      ],
      "source": [
        "corr_matrix = df[['num_reviews', 'num_subscribers']].corr()\n",
        "print(corr_matrix)"
      ]
    },
    {
      "cell_type": "code",
      "execution_count": null,
      "id": "5d9a3adf",
      "metadata": {
        "id": "5d9a3adf",
        "outputId": "6cbb97b2-013a-425a-b63f-f9ff551f3f41"
      },
      "outputs": [
        {
          "data": {
            "image/png": "[encoded data removed]",
            "text/plain": [
              "<Figure size 432x288 with 2 Axes>"
            ]
          },
          "metadata": {
            "needs_background": "light"
          },
          "output_type": "display_data"
        }
      ],
      "source": [
        "corr_matrix = df.corr()\n",
        "sns.heatmap(corr_matrix, annot=True, cmap='coolwarm')\n",
        "plt.show()"
      ]
    },
    {
      "cell_type": "markdown",
      "id": "6500022d",
      "metadata": {
        "id": "6500022d"
      },
      "source": [
        " Courses with a higher number of reviews tend to have a higher number of subscribers."
      ]
    },
    {
      "cell_type": "code",
      "execution_count": null,
      "id": "41378e0f",
      "metadata": {
        "id": "41378e0f",
        "outputId": "093d7cf1-5803-489e-a6cf-25059cd151a8"
      },
      "outputs": [
        {
          "data": {
            "image/png": "[encoded data removed]",
            "text/plain": [
              "<Figure size 720x648 with 1 Axes>"
            ]
          },
          "metadata": {
            "needs_background": "light"
          },
          "output_type": "display_data"
        }
      ],
      "source": [
        "# convert the \"published_time\" column to a datetime object\n",
        "df[\"published_time\"] = pd.to_datetime(df[\"published_time\"])\n",
        "\n",
        "# group the data by month and calculate the total number of subscribers for each month\n",
        "monthly_subscribers = df.groupby(df[\"published_time\"].dt.strftime(\"%m\"))[\"num_subscribers\"].sum()\n",
        "\n",
        "# calculate the percentage of total subscribers for each month\n",
        "total_subscribers = monthly_subscribers.sum()\n",
        "monthly_subscribers_percent = monthly_subscribers / total_subscribers * 100\n",
        "\n",
        "# plot the results\n",
        "ax = monthly_subscribers.plot(kind=\"bar\", xlabel=\"Month\", ylabel=\"Total Subscribers\",figsize=(10, 9))\n",
        "\n",
        "# add percentage text to each bar\n",
        "for i, v in enumerate(monthly_subscribers_percent):\n",
        "    ax.text(i, monthly_subscribers[i]+1000, str(round(v, 1))+\"%\", ha=\"center\", fontweight=\"bold\")\n",
        "\n",
        "# set x-axis tick labels\n",
        "ax.set_xticklabels(monthly_subscribers.index, rotation=90)\n",
        "plt.show()"
      ]
    }
  ],
  "metadata": {
    "kernelspec": {
      "display_name": "Python 3",
      "language": "python",
      "name": "python3"
    },
    "language_info": {
      "codemirror_mode": {
        "name": "ipython",
        "version": 3
      },
      "file_extension": ".py",
      "mimetype": "text/x-python",
      "name": "python",
      "nbconvert_exporter": "python",
      "pygments_lexer": "ipython3",
      "version": "3.8.8"
    },
    "colab": {
      "provenance": [],
      "include_colab_link": true
    }
  },
  "nbformat": 4,
  "nbformat_minor": 5
}